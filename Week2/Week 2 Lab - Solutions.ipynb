{
 "cells": [
  {
   "cell_type": "markdown",
   "metadata": {},
   "source": [
    "<h1 style=\"color:Green;\">Week 2 Lab - Solutions</h1> "
   ]
  },
  {
   "cell_type": "markdown",
   "metadata": {},
   "source": [
    "<a style=\"color:purple;\" href=\"https://docs.google.com/presentation/d/1IsoKGNILvIqfo_yzBJYTCIf9qg4YysTIOFrJix6jYDI/edit#slide=id.g11b032e97d3_0_0\">[Week 2 Lecture Link Here]</a>"
   ]
  },
  {
   "cell_type": "markdown",
   "metadata": {},
   "source": [
    "<h2 style=\"color:black;\"> Objective: to practice portfolio hedging and risk management</h2> "
   ]
  },
  {
   "cell_type": "markdown",
   "metadata": {},
   "source": [
    "<h2 style=\"color:Green;\">Setup and Loading Packages</h2> Setup and Loading Packages"
   ]
  },
  {
   "cell_type": "code",
   "execution_count": 14,
   "metadata": {
    "ExecuteTime": {
     "end_time": "2021-04-16T00:08:32.172640Z",
     "start_time": "2021-04-16T00:08:31.635143Z"
    }
   },
   "outputs": [],
   "source": [
    "%matplotlib inline\n",
    "import numpy as np\n",
    "import pandas as pd\n",
    "from matplotlib import pyplot as plt\n",
    "import seaborn as sns\n",
    "import scipy.stats as stats\n",
    "from datetime import datetime, timedelta\n",
    "from sklearn.preprocessing import scale\n",
    "from matplotlib.ticker import FuncFormatter\n",
    "from scipy.stats import t, laplace, expon, uniform, norm\n",
    "import statsmodels.api as sm\n",
    "from matplotlib.ticker import FuncFormatter\n",
    "import random\n",
    "import pandas_datareader as pdr"
   ]
  },
  {
   "cell_type": "markdown",
   "metadata": {},
   "source": [
    "<h2 style=\"color:Green;\">Problem 1: Exploring Sector ETFs</h2><br/>"
   ]
  },
  {
   "cell_type": "markdown",
   "metadata": {},
   "source": [
    "A sector exchange-traded fund (ETF) is a pooled investment vehicle that invests specifically in the stocks and securities of a particular industry or sector, typically identified in the fund's title. For instance, a sector ETF may track a representative basket of stocks from a specific economic sector.<br>\n",
    "<br>\n",
    "Here is the list of sector ETFs:\n",
    "<ul>\n",
    "  <li>Healthcare: XLV</li>\n",
    "  <li>Utilities: XLU</li>\n",
    "  <li>Consumer Staples: XLP</li>\n",
    "  <li>Materials: XLB</li>\n",
    "  <li>Financials: XLF</li>\n",
    "  <li>Energy: XLE</li>\n",
    "  <li>Real Estate: XLRE</li>\n",
    "  <li>Information Technology: XLK</li>\n",
    "  <li>Consumer Discretionary: XLY</li>\n",
    "  <li>Communication Services: XLC</li>\n",
    "  <li>Industrials: XLI</li>\n",
    "</ul>\n",
    "\n",
    "Suppose that a portfolio manager is interested in concentrating the clients' assets in two sector ETFs. You, as a quantitative analyst generated the summary statistics table below to help with the manager's decision.\n",
    "<p style=\"color:red;\">PLEASE DO NOT CHANGE THIS CODE !!!</p>"
   ]
  },
  {
   "cell_type": "code",
   "execution_count": 2,
   "metadata": {
    "scrolled": false
   },
   "outputs": [
    {
     "data": {
      "text/html": [
       "<div>\n",
       "<style scoped>\n",
       "    .dataframe tbody tr th:only-of-type {\n",
       "        vertical-align: middle;\n",
       "    }\n",
       "\n",
       "    .dataframe tbody tr th {\n",
       "        vertical-align: top;\n",
       "    }\n",
       "\n",
       "    .dataframe thead th {\n",
       "        text-align: right;\n",
       "    }\n",
       "</style>\n",
       "<table border=\"1\" class=\"dataframe\">\n",
       "  <thead>\n",
       "    <tr style=\"text-align: right;\">\n",
       "      <th></th>\n",
       "      <th>mean</th>\n",
       "      <th>sd</th>\n",
       "      <th>skewness</th>\n",
       "      <th>excess kurtosis</th>\n",
       "    </tr>\n",
       "    <tr>\n",
       "      <th>Symbols</th>\n",
       "      <th></th>\n",
       "      <th></th>\n",
       "      <th></th>\n",
       "      <th></th>\n",
       "    </tr>\n",
       "  </thead>\n",
       "  <tbody>\n",
       "    <tr>\n",
       "      <th>XLV</th>\n",
       "      <td>0.000475</td>\n",
       "      <td>0.012546</td>\n",
       "      <td>-0.436086</td>\n",
       "      <td>11.186400</td>\n",
       "    </tr>\n",
       "    <tr>\n",
       "      <th>XLU</th>\n",
       "      <td>0.000487</td>\n",
       "      <td>0.014524</td>\n",
       "      <td>-0.228397</td>\n",
       "      <td>18.569851</td>\n",
       "    </tr>\n",
       "    <tr>\n",
       "      <th>XLP</th>\n",
       "      <td>0.000518</td>\n",
       "      <td>0.011110</td>\n",
       "      <td>-0.385680</td>\n",
       "      <td>17.048824</td>\n",
       "    </tr>\n",
       "    <tr>\n",
       "      <th>XLB</th>\n",
       "      <td>0.000421</td>\n",
       "      <td>0.015667</td>\n",
       "      <td>-0.650149</td>\n",
       "      <td>10.563008</td>\n",
       "    </tr>\n",
       "    <tr>\n",
       "      <th>XLF</th>\n",
       "      <td>0.000299</td>\n",
       "      <td>0.017723</td>\n",
       "      <td>-0.631750</td>\n",
       "      <td>14.060393</td>\n",
       "    </tr>\n",
       "    <tr>\n",
       "      <th>XLE</th>\n",
       "      <td>0.000223</td>\n",
       "      <td>0.024104</td>\n",
       "      <td>-0.973082</td>\n",
       "      <td>14.418292</td>\n",
       "    </tr>\n",
       "    <tr>\n",
       "      <th>XLRE</th>\n",
       "      <td>0.000438</td>\n",
       "      <td>0.015575</td>\n",
       "      <td>-1.556405</td>\n",
       "      <td>21.834711</td>\n",
       "    </tr>\n",
       "    <tr>\n",
       "      <th>XLK</th>\n",
       "      <td>0.000695</td>\n",
       "      <td>0.017691</td>\n",
       "      <td>-0.582188</td>\n",
       "      <td>9.855244</td>\n",
       "    </tr>\n",
       "    <tr>\n",
       "      <th>XLY</th>\n",
       "      <td>0.000350</td>\n",
       "      <td>0.015518</td>\n",
       "      <td>-1.057125</td>\n",
       "      <td>10.978149</td>\n",
       "    </tr>\n",
       "    <tr>\n",
       "      <th>XLI</th>\n",
       "      <td>0.000316</td>\n",
       "      <td>0.015669</td>\n",
       "      <td>-0.659399</td>\n",
       "      <td>12.867549</td>\n",
       "    </tr>\n",
       "    <tr>\n",
       "      <th>XLC</th>\n",
       "      <td>0.000183</td>\n",
       "      <td>0.015242</td>\n",
       "      <td>-0.781202</td>\n",
       "      <td>8.230965</td>\n",
       "    </tr>\n",
       "  </tbody>\n",
       "</table>\n",
       "</div>"
      ],
      "text/plain": [
       "             mean        sd  skewness  excess kurtosis\n",
       "Symbols                                               \n",
       "XLV      0.000475  0.012546 -0.436086        11.186400\n",
       "XLU      0.000487  0.014524 -0.228397        18.569851\n",
       "XLP      0.000518  0.011110 -0.385680        17.048824\n",
       "XLB      0.000421  0.015667 -0.650149        10.563008\n",
       "XLF      0.000299  0.017723 -0.631750        14.060393\n",
       "XLE      0.000223  0.024104 -0.973082        14.418292\n",
       "XLRE     0.000438  0.015575 -1.556405        21.834711\n",
       "XLK      0.000695  0.017691 -0.582188         9.855244\n",
       "XLY      0.000350  0.015518 -1.057125        10.978149\n",
       "XLI      0.000316  0.015669 -0.659399        12.867549\n",
       "XLC      0.000183  0.015242 -0.781202         8.230965"
      ]
     },
     "execution_count": 2,
     "metadata": {},
     "output_type": "execute_result"
    }
   ],
   "source": [
    "ETF_SYMBOLS = ['XLV','XLU','XLP','XLB','XLF','XLE','XLRE','XLK','XLY','XLI','XLC'] # Enter the ticker symbols here\n",
    "TAU = 5         # Enter duration of data you want from Yahoo Finance\n",
    "START_DATE = (datetime.today() - timedelta(days = TAU * 365)).strftime('%Y-%m-%d') # data start date\n",
    "END_DATE = datetime.today().strftime('%Y-%m-%d') # data end date\n",
    "etfPxList = pdr.DataReader(ETF_SYMBOLS, 'yahoo', START_DATE, END_DATE)['Adj Close'] # retreiving asset price data from yahoo finance\n",
    "# converting prices to log returns and removing NaN values\n",
    "etfLogRetList = np.log(etfPxList).diff().dropna()\n",
    "sum_stats = pd.DataFrame({'mean':etfLogRetList.mean(), 'sd': etfLogRetList.std(), 'skewness':etfLogRetList.skew(), 'excess kurtosis':etfLogRetList.kurtosis()})\n",
    "sum_stats"
   ]
  },
  {
   "cell_type": "markdown",
   "metadata": {},
   "source": [
    "a) Based on the summary statistics of the ETF's log returns, which two sector ETFs would you recommend to the portfolio manager? (Hint: compare the mean, sd, skewness, and excess kurtosis of each ETF's log return)"
   ]
  },
  {
   "cell_type": "markdown",
   "metadata": {},
   "source": [
    "<b style=\"color:blue;\"> Solution: </b>"
   ]
  },
  {
   "cell_type": "markdown",
   "metadata": {},
   "source": [
    "<p style=\"color:blue;\"> Based on the mean measure, I would recommend XLP and XLK since they yield the highest expected returns. Based on the standard deviation (sd), I would recommend XLP and XLE because they have lower values of sd, implying lower volatility. All ETF's log returns are skewed to the left, implying a negative-return tension overall, but using this metric, I would recommend XLP and XLU because their log returns skew the least towards the negative side. Using the excess kurtosis, I would propose XLK and XLC becasue they possess lighter tails compared to other ETF's, and lighter tail value means less probability of incurring extreme risks (as well as profits). \n",
    "<br><br> \n",
    "My first proposal would be XLP because it is selected in 3 of the 4 statistics \n",
    "<br><br> \n",
    "My second proposal would be XLK because it is selected in 2 of the 4 statistics. </p>"
   ]
  },
  {
   "cell_type": "markdown",
   "metadata": {},
   "source": [
    "b) If the portfolio manager's objective is to achieve the maximum return with minimum risk, which two ETFs would you recommend to her? How does this differ from your recommendation in a)? <br>\n",
    "(Hint 1: consider reward-to-risk ratio)<br>\n",
    "(Hint 2:You can save time by using the following code chunk to automate any metric computation)"
   ]
  },
  {
   "cell_type": "code",
   "execution_count": 3,
   "metadata": {},
   "outputs": [
    {
     "data": {
      "text/html": [
       "<div>\n",
       "<style scoped>\n",
       "    .dataframe tbody tr th:only-of-type {\n",
       "        vertical-align: middle;\n",
       "    }\n",
       "\n",
       "    .dataframe tbody tr th {\n",
       "        vertical-align: top;\n",
       "    }\n",
       "\n",
       "    .dataframe thead th {\n",
       "        text-align: right;\n",
       "    }\n",
       "</style>\n",
       "<table border=\"1\" class=\"dataframe\">\n",
       "  <thead>\n",
       "    <tr style=\"text-align: right;\">\n",
       "      <th></th>\n",
       "      <th>mean</th>\n",
       "      <th>sd</th>\n",
       "      <th>skewness</th>\n",
       "      <th>excess kurtosis</th>\n",
       "      <th>reward-to-risk ratio</th>\n",
       "    </tr>\n",
       "    <tr>\n",
       "      <th>Symbols</th>\n",
       "      <th></th>\n",
       "      <th></th>\n",
       "      <th></th>\n",
       "      <th></th>\n",
       "      <th></th>\n",
       "    </tr>\n",
       "  </thead>\n",
       "  <tbody>\n",
       "    <tr>\n",
       "      <th>XLV</th>\n",
       "      <td>0.000475</td>\n",
       "      <td>0.012546</td>\n",
       "      <td>-0.436086</td>\n",
       "      <td>11.186400</td>\n",
       "      <td>0.037838</td>\n",
       "    </tr>\n",
       "    <tr>\n",
       "      <th>XLU</th>\n",
       "      <td>0.000487</td>\n",
       "      <td>0.014524</td>\n",
       "      <td>-0.228397</td>\n",
       "      <td>18.569851</td>\n",
       "      <td>0.033543</td>\n",
       "    </tr>\n",
       "    <tr>\n",
       "      <th>XLP</th>\n",
       "      <td>0.000518</td>\n",
       "      <td>0.011110</td>\n",
       "      <td>-0.385680</td>\n",
       "      <td>17.048824</td>\n",
       "      <td>0.046634</td>\n",
       "    </tr>\n",
       "    <tr>\n",
       "      <th>XLB</th>\n",
       "      <td>0.000421</td>\n",
       "      <td>0.015667</td>\n",
       "      <td>-0.650149</td>\n",
       "      <td>10.563008</td>\n",
       "      <td>0.026843</td>\n",
       "    </tr>\n",
       "    <tr>\n",
       "      <th>XLF</th>\n",
       "      <td>0.000299</td>\n",
       "      <td>0.017723</td>\n",
       "      <td>-0.631750</td>\n",
       "      <td>14.060393</td>\n",
       "      <td>0.016887</td>\n",
       "    </tr>\n",
       "    <tr>\n",
       "      <th>XLE</th>\n",
       "      <td>0.000223</td>\n",
       "      <td>0.024104</td>\n",
       "      <td>-0.973082</td>\n",
       "      <td>14.418292</td>\n",
       "      <td>0.009260</td>\n",
       "    </tr>\n",
       "    <tr>\n",
       "      <th>XLRE</th>\n",
       "      <td>0.000438</td>\n",
       "      <td>0.015575</td>\n",
       "      <td>-1.556405</td>\n",
       "      <td>21.834711</td>\n",
       "      <td>0.028112</td>\n",
       "    </tr>\n",
       "    <tr>\n",
       "      <th>XLK</th>\n",
       "      <td>0.000695</td>\n",
       "      <td>0.017691</td>\n",
       "      <td>-0.582188</td>\n",
       "      <td>9.855244</td>\n",
       "      <td>0.039278</td>\n",
       "    </tr>\n",
       "    <tr>\n",
       "      <th>XLY</th>\n",
       "      <td>0.000350</td>\n",
       "      <td>0.015518</td>\n",
       "      <td>-1.057125</td>\n",
       "      <td>10.978149</td>\n",
       "      <td>0.022548</td>\n",
       "    </tr>\n",
       "    <tr>\n",
       "      <th>XLI</th>\n",
       "      <td>0.000316</td>\n",
       "      <td>0.015669</td>\n",
       "      <td>-0.659399</td>\n",
       "      <td>12.867549</td>\n",
       "      <td>0.020161</td>\n",
       "    </tr>\n",
       "    <tr>\n",
       "      <th>XLC</th>\n",
       "      <td>0.000183</td>\n",
       "      <td>0.015242</td>\n",
       "      <td>-0.781202</td>\n",
       "      <td>8.230965</td>\n",
       "      <td>0.012017</td>\n",
       "    </tr>\n",
       "  </tbody>\n",
       "</table>\n",
       "</div>"
      ],
      "text/plain": [
       "             mean        sd  skewness  excess kurtosis  reward-to-risk ratio\n",
       "Symbols                                                                     \n",
       "XLV      0.000475  0.012546 -0.436086        11.186400              0.037838\n",
       "XLU      0.000487  0.014524 -0.228397        18.569851              0.033543\n",
       "XLP      0.000518  0.011110 -0.385680        17.048824              0.046634\n",
       "XLB      0.000421  0.015667 -0.650149        10.563008              0.026843\n",
       "XLF      0.000299  0.017723 -0.631750        14.060393              0.016887\n",
       "XLE      0.000223  0.024104 -0.973082        14.418292              0.009260\n",
       "XLRE     0.000438  0.015575 -1.556405        21.834711              0.028112\n",
       "XLK      0.000695  0.017691 -0.582188         9.855244              0.039278\n",
       "XLY      0.000350  0.015518 -1.057125        10.978149              0.022548\n",
       "XLI      0.000316  0.015669 -0.659399        12.867549              0.020161\n",
       "XLC      0.000183  0.015242 -0.781202         8.230965              0.012017"
      ]
     },
     "execution_count": 3,
     "metadata": {},
     "output_type": "execute_result"
    }
   ],
   "source": [
    "################ EDIT CODE LINES HERE #################\n",
    "# Create an addition column in the summary table containing the risk-to-reward  ratios for each ETF and call it 'RR'\n",
    "# It should only be a one line code\n",
    "# After you create the column, run this code chunk to output the new summary statistics table\n",
    "\n",
    "sum_stats['reward-to-risk ratio'] = sum_stats['mean']/sum_stats['sd'] \n",
    "sum_stats\n",
    "\n",
    "#####################################################"
   ]
  },
  {
   "cell_type": "markdown",
   "metadata": {},
   "source": [
    "<b style=\"color:blue;\"> Solution: </b>"
   ]
  },
  {
   "cell_type": "markdown",
   "metadata": {},
   "source": [
    "<p style=\"color:blue;\"> If the portfolio manager's objective is to achieve the maximum return with minimum risk, I would recommend the two ETFs that have the highest reward-to-risk ratios (RR ratios). These turn out to be XLP and XLK, with RR ratios of 0.046634 and 0.039278, respectively.</p>"
   ]
  },
  {
   "cell_type": "markdown",
   "metadata": {},
   "source": [
    "c) What is one visualizations that you can use to evaluate the selected ETFs before including them in your portfolio? (Hint: visualization techniques are suggested in the Exploratory Data Analysis (EDA) lecture)<br>\n",
    "You can just name the visualization method. Extra credit is given to those who implement the visuaization in the following code chunk."
   ]
  },
  {
   "cell_type": "markdown",
   "metadata": {},
   "source": [
    "<b style=\"color:blue;\"> Solution: </b>"
   ]
  },
  {
   "cell_type": "markdown",
   "metadata": {},
   "source": [
    "<p style=\"color:blue;\"> Time Plots</p>"
   ]
  },
  {
   "cell_type": "code",
   "execution_count": 26,
   "metadata": {},
   "outputs": [
    {
     "data": {
      "image/png": "[encoded data removed]",
      "text/plain": [
       "<Figure size 1152x288 with 2 Axes>"
      ]
     },
     "metadata": {
      "needs_background": "light"
     },
     "output_type": "display_data"
    }
   ],
   "source": [
    "################ EDIT CODE LINES HERE #################\n",
    "\n",
    "fig, axs = plt.subplots(1, 2, figsize=(16,4))\n",
    "fig.tight_layout(pad=5)\n",
    "\n",
    "# Time Plot for XLP \n",
    "axs[0].plot(etfLogRetList['XLP'])\n",
    "axs[0].set_title(\"XLP's Stock Log Return (\"+START_DATE+' to '+END_DATE+\")\")\n",
    "\n",
    "# Time Plot for XLK \n",
    "axs[1].plot(etfLogRetList['XLK'])\n",
    "axs[1].set_title(\"XLK's Stock Log Return (\"+START_DATE+' to '+END_DATE+\")\")\n",
    "\n",
    "# labeling x and y axes\n",
    "for ax in axs.flat:\n",
    "    ax.set(xlabel='Log Returns', ylabel='Frequency')\n",
    "    \n",
    "#######################################################"
   ]
  },
  {
   "cell_type": "markdown",
   "metadata": {},
   "source": [
    "<p style=\"color:blue;\"> Scatter Plots</p>"
   ]
  },
  {
   "cell_type": "code",
   "execution_count": 31,
   "metadata": {},
   "outputs": [
    {
     "data": {
      "text/plain": [
       "Text(0.5, 1.0, 'Scatter Plot XLP vs XLK')"
      ]
     },
     "execution_count": 31,
     "metadata": {},
     "output_type": "execute_result"
    },
    {
     "data": {
      "image/png": "[encoded data removed]",
      "text/plain": [
       "<Figure size 432x288 with 1 Axes>"
      ]
     },
     "metadata": {
      "needs_background": "light"
     },
     "output_type": "display_data"
    }
   ],
   "source": [
    "################ EDIT CODE LINES HERE #################\n",
    "\n",
    "etfLogRetList.plot.scatter(x='XLP', y='XLK', c='DarkBlue')\n",
    "plt.title('Scatter Plot XLP vs XLK')\n",
    "\n",
    "#######################################################"
   ]
  },
  {
   "cell_type": "markdown",
   "metadata": {},
   "source": [
    "<p style=\"color:blue;\"> Correlation Heatmap</p>"
   ]
  },
  {
   "cell_type": "code",
   "execution_count": 34,
   "metadata": {},
   "outputs": [
    {
     "data": {
      "text/plain": [
       "Text(0.5, 1.0, 'Correlations Between XLP and XLK Log Returns')"
      ]
     },
     "execution_count": 34,
     "metadata": {},
     "output_type": "execute_result"
    },
    {
     "data": {
      "image/png": "[encoded data removed]",
      "text/plain": [
       "<Figure size 432x288 with 2 Axes>"
      ]
     },
     "metadata": {
      "needs_background": "light"
     },
     "output_type": "display_data"
    }
   ],
   "source": [
    "################ EDIT CODE LINES HERE #################\n",
    "\n",
    "sns.heatmap(etfLogRetList[['XLP','XLK']].corr(),annot=True)\n",
    "plt.title(\"Correlations Between XLP and XLK Log Returns\")\n",
    "\n",
    "#######################################################"
   ]
  },
  {
   "cell_type": "markdown",
   "metadata": {},
   "source": [
    "<p style=\"color:blue;\"> Box Plots</p>"
   ]
  },
  {
   "cell_type": "code",
   "execution_count": 28,
   "metadata": {},
   "outputs": [
    {
     "data": {
      "image/png": "[encoded data removed]",
      "text/plain": [
       "<Figure size 1152x288 with 2 Axes>"
      ]
     },
     "metadata": {
      "needs_background": "light"
     },
     "output_type": "display_data"
    }
   ],
   "source": [
    "################ EDIT CODE LINES HERE #################\n",
    "\n",
    "fig, axs = plt.subplots(1, 2, figsize=(16,4))\n",
    "fig.tight_layout(pad=5)\n",
    "\n",
    "\n",
    "# Box Plot for XLP \n",
    "axs[0].boxplot(etfLogRetList['XLP'], vert=False)\n",
    "axs[0].set_title(\"Box Plot of XLP's Stock Log Return\")\n",
    "\n",
    "# Box Plot for XLK \n",
    "axs[1].boxplot(etfLogRetList['XLK'], vert=False)\n",
    "axs[1].set_title(\"Box Plot of XLK's Stock Log Return\")\n",
    "\n",
    "# labeling x and y axes\n",
    "for ax in axs.flat:\n",
    "    ax.set(xlabel='Log Returns')\n",
    "    \n",
    "################################################################"
   ]
  },
  {
   "cell_type": "markdown",
   "metadata": {},
   "source": [
    "<p style=\"color:blue;\"> Histograms</p>"
   ]
  },
  {
   "cell_type": "code",
   "execution_count": 23,
   "metadata": {},
   "outputs": [
    {
     "data": {
      "image/png": "[encoded data removed]",
      "text/plain": [
       "<Figure size 1152x288 with 2 Axes>"
      ]
     },
     "metadata": {
      "needs_background": "light"
     },
     "output_type": "display_data"
    }
   ],
   "source": [
    "################ EDIT CODE LINES HERE (Optional) #################\n",
    "\n",
    "fig, axs = plt.subplots(1, 2, figsize=(16,4))\n",
    "fig.tight_layout(pad=5)\n",
    "\n",
    "# Histogram for XLP \n",
    "axs[0].hist(etfLogRetList['XLP'], bins=50, density=1, alpha=0.5)\n",
    "axs[0].set_title(\"Histogram of XLP's Stock Log Return\")\n",
    "\n",
    "# Histogram for XLK \n",
    "axs[1].hist(etfLogRetList['XLK'], bins=50, density=1, alpha=0.5)\n",
    "axs[1].set_title(\"Histogram of XLK's Stock Log Return\")\n",
    "\n",
    "# labeling x and y axes\n",
    "for ax in axs.flat:\n",
    "    ax.set(xlabel='Log Returns', ylabel='Frequency')\n",
    "\n",
    "################################################################"
   ]
  },
  {
   "cell_type": "markdown",
   "metadata": {},
   "source": [
    "<p style=\"color:blue;\"> Other visualizations work as well.</p>"
   ]
  },
  {
   "cell_type": "markdown",
   "metadata": {},
   "source": [
    "<h2 style=\"color:Green;\">Problem 2: Evaluating Portfolio Risks</h2><br/>"
   ]
  },
  {
   "cell_type": "markdown",
   "metadata": {},
   "source": [
    "After adding two sector ETFs from part a), the portoflio manager wants to add one more asset into her portfolio, but this time, she wants an asset with daily risks no more than 3% at a 10% significance level. You have become the portoflio manager's favorite quantitative analyst since the previous task, and have been asked to suggest an asset to add to her portfolio with follow-through analysis. Please follow the instructions specified in each part of this problem to deliver your suggestion and analysis.\n",
    "<br><br>\n",
    "Notice that any assets can be selected, and not just stocks. For example, cryptocurrency and foreign exchange instruments can be suggested as well. Some relatively new cryptocurrencies (e.g., Solana, USD Coin) only have complete data dating back to three or four years ago, so setting the duration of data further back than these dates may result in inaccurate representation of their relationships."
   ]
  },
  {
   "cell_type": "markdown",
   "metadata": {},
   "source": [
    "a) Please specify your asset's ticker and their data duration here. "
   ]
  },
  {
   "cell_type": "markdown",
   "metadata": {},
   "source": [
    "<b style=\"color:blue;\"> Solution: </b>"
   ]
  },
  {
   "cell_type": "markdown",
   "metadata": {},
   "source": [
    "<p style=\"color:blue;\"> Here, I suggested Bitcoin to add to the manager's portfolio.</p>"
   ]
  },
  {
   "cell_type": "code",
   "execution_count": 35,
   "metadata": {},
   "outputs": [],
   "source": [
    "################ EDIT CODE LINES HERE #################\n",
    "\n",
    "ASSET_TICKER = 'BTC-USD'     # Enter the asset's ticker here\n",
    "TAU = 5             # duration span (in years) of observed data\n",
    "\n",
    "###################################################"
   ]
  },
  {
   "cell_type": "markdown",
   "metadata": {},
   "source": [
    "Run the following code chunk. <br>\n",
    "<p style=\"color:red;\">PLEASE DO NOT CHANGE THIS CODE CHUNK!!!</p>"
   ]
  },
  {
   "cell_type": "code",
   "execution_count": 36,
   "metadata": {},
   "outputs": [],
   "source": [
    "START_DATE = (datetime.today() - timedelta(days = TAU * 365)).strftime('%Y-%m-%d') # data start date\n",
    "END_DATE = datetime.today().strftime('%Y-%m-%d') # data end date\n",
    "# storing adjusted stock prices into a variable \n",
    "assetPx = pdr.get_data_yahoo(ASSET_TICKER, START_DATE, END_DATE)['Adj Close'] \n",
    "# converting prices to log returns and removing NaN values\n",
    "assetLogRet = np.log(assetPx).diff().dropna()"
   ]
  },
  {
   "cell_type": "markdown",
   "metadata": {},
   "source": [
    "b) Run the following code chunk and observe the histogram for the asset's log returns. Describe its mean, standard deviation, and shape.\n",
    "<br>\n",
    "<p style=\"color:red;\">PLEASE DO NOT CHANGE THIS CODE CHUNK!!!</p>"
   ]
  },
  {
   "cell_type": "code",
   "execution_count": 37,
   "metadata": {},
   "outputs": [
    {
     "data": {
      "text/plain": [
       "Text(0, 0.5, 'Density')"
      ]
     },
     "execution_count": 37,
     "metadata": {},
     "output_type": "execute_result"
    },
    {
     "data": {
      "image/png": "[encoded data removed]",
      "text/plain": [
       "<Figure size 432x288 with 1 Axes>"
      ]
     },
     "metadata": {
      "needs_background": "light"
     },
     "output_type": "display_data"
    }
   ],
   "source": [
    "_, bins, _= plt.hist(assetLogRet, bins=50, density=1, alpha=0.5)\n",
    "plt.title(\"Histogram of \" + ASSET_TICKER + \"'s Log Return\")\n",
    "plt.xlabel(\"Log Returns\"); plt.ylabel(\"Density\")"
   ]
  },
  {
   "cell_type": "markdown",
   "metadata": {},
   "source": [
    "<b style=\"color:blue;\"> Solution: </b>"
   ]
  },
  {
   "cell_type": "markdown",
   "metadata": {},
   "source": [
    "<p style=\"color:blue;\"> From the histograms, BTC's log return seems to be centered at around 0, with tail values slightly skewed to the left. Profits seem to extend to a 30% log return quantile, while losses extend far out to the left to around the -40% extreme, which can be potential outliers. Note that 20% to 40% swing daily is a lot and seldom happens in the stock market, but Bitcoin belongs to the cryptocurrency market, which is shown to be extremely volatile here with high standard deviation.</p>"
   ]
  },
  {
   "cell_type": "markdown",
   "metadata": {},
   "source": [
    "c) Run the following code chunk and select one of the three probabiltiy distribution curves that you think best fits the histogram. Name the probability distribution and its parameters (e.g., degrees of freedom, location, scale).<br>\n",
    "<p style=\"color:red;\">PLEASE DO NOT CHANGE THIS CODE CHUNK!!!</p>"
   ]
  },
  {
   "cell_type": "code",
   "execution_count": 39,
   "metadata": {},
   "outputs": [
    {
     "data": {
      "image/png": "[encoded data removed]",
      "text/plain": [
       "<Figure size 1296x360 with 3 Axes>"
      ]
     },
     "metadata": {
      "needs_background": "light"
     },
     "output_type": "display_data"
    }
   ],
   "source": [
    "fig, axs = plt.subplots(1, 3, figsize=(18,5))\n",
    "\n",
    "# storing histogram bins and plotting the first histogram\n",
    "_, bins, _ = axs[0].hist(assetLogRet, bins=50, density=1, alpha=0.5)\n",
    "\n",
    "#---------------------------w/ Normal PDF-----------------------------\n",
    "mu, sigma = stats.norm.fit(assetLogRet)\n",
    "axs[0].plot(bins, stats.norm.pdf(bins, mu, sigma), label='normal pdf')\n",
    "axs[0].set_title(\"Normal(\"+str(np.round(mu, 4))+', '+str(np.round(sigma, 4))+\") Fit\")\n",
    "\n",
    "#---------------------------w/ Double Exponential PDF-----------------------------\n",
    "axs[1].hist(assetLogRet, bins=50, density=1, alpha=0.5)\n",
    "loc_dexp, scale_dexp = stats.laplace.fit(assetLogRet)\n",
    "axs[1].plot(bins, laplace.pdf(bins, loc_dexp, scale_dexp), label='double exponential pdf')\n",
    "axs[1].set_title(\"DExp(\"+str(np.round(loc_dexp, 4))+', '+str(np.round(scale_dexp, 4))+\") Fit\")\n",
    "\n",
    "#---------------------------w/ Student-t PDF-----------------------------\n",
    "axs[2].hist(assetLogRet, bins=50, density=1, alpha=0.5)\n",
    "df_t, loc_t, scale_t = stats.t.fit(assetLogRet)\n",
    "axs[2].plot(bins, t.pdf(bins, df_t, loc_t, scale_t), label='student-t pdf')\n",
    "axs[2].set_title(\"$t_{\"+str(np.round(df_t, 4))+\"}$\"+\"(\"+str(np.round(loc_t, 4))+', '+str(np.round(scale_t, 4))+\") Fit\")\n",
    "\n",
    "# labeling x and y axes\n",
    "for ax in axs.flat:\n",
    "    ax.set(xlabel='Log Returns', ylabel='Density')"
   ]
  },
  {
   "cell_type": "markdown",
   "metadata": {},
   "source": [
    "<b style=\"color:blue;\"> Solution: </b>"
   ]
  },
  {
   "cell_type": "markdown",
   "metadata": {},
   "source": [
    "<p style=\"color:blue;\"> The double exponential distribution seems to fit the histogram the best because it closely traces the tails values, shoulders, and the peak of the frequency distribution. This distribution curve is tuned with mean parameter = 0.0018 and scale parameter = 0.0283.</p>"
   ]
  },
  {
   "cell_type": "markdown",
   "metadata": {},
   "source": [
    "d)  If you cannot differentiate which distribution is a better fit from part b), run the follow code to fit QQ plots to the asset's log return quantiles. Then select one of the three QQ plots that you think best fits the log return quantiles. What is the theoretical distribution in this QQ plot? Is this distribution same as the one you selected in part b)?<br>"
   ]
  },
  {
   "cell_type": "markdown",
   "metadata": {},
   "source": [
    "<p style=\"color:red;\">PLEASE DO NOT CHANGE THIS CODE CHUNK!!!</p>"
   ]
  },
  {
   "cell_type": "markdown",
   "metadata": {},
   "source": [
    "<b style=\"color:blue;\"> Solution: </b>"
   ]
  },
  {
   "cell_type": "code",
   "execution_count": 40,
   "metadata": {},
   "outputs": [
    {
     "data": {
      "text/plain": [
       "Text(0.5, 1.0, \"Student-t QQ Plot of BTC-USD's Log Return\")"
      ]
     },
     "execution_count": 40,
     "metadata": {},
     "output_type": "execute_result"
    },
    {
     "data": {
      "image/png": "[encoded data removed]",
      "text/plain": [
       "<Figure size 1296x360 with 3 Axes>"
      ]
     },
     "metadata": {
      "needs_background": "light"
     },
     "output_type": "display_data"
    }
   ],
   "source": [
    "fig, axs = plt.subplots(1, 3, figsize=(18, 5))\n",
    "\n",
    "#---------------------------w/ Normal QQ Plot-----------------------------\n",
    "sm.qqplot(assetLogRet, stats.norm, fit=True, line='45', ax=axs[0])\n",
    "axs[0].set_title(\"Normal QQ Plot of \" + ASSET_TICKER + \"'s Log Return\")\n",
    "\n",
    "#---------------------------w/ Double Exponential QQ Plot-----------------------------\n",
    "sm.qqplot(assetLogRet, stats.laplace, fit=True, line='45', ax=axs[1])\n",
    "axs[1].set_title(\"Double Exponential QQ Plot of \" + ASSET_TICKER + \"'s Log Return\")\n",
    "\n",
    "#---------------------------w/ Student-t QQ Plot-----------------------------\n",
    "sm.qqplot(assetLogRet, stats.t, fit=True, line='45', ax=axs[2])\n",
    "axs[2].set_title(\"Student-t QQ Plot of \" + ASSET_TICKER + \"'s Log Return\")"
   ]
  },
  {
   "cell_type": "markdown",
   "metadata": {},
   "source": [
    "<p style=\"color:blue;\"> The QQ plot with theoretical double exponential quantiles seem to best-fit those of Bitcoin's daily log returns because quantiles from the two populations, when plotted against each other, lie close on the red line, which represent similarity in population quantiles. In other words, it is safe to say that Bitcoin's daily log returns come from a double exponential distribution. This distribution is the same as the one I selected in part b).</p>"
   ]
  },
  {
   "cell_type": "markdown",
   "metadata": {},
   "source": [
    "e)You are going to make a table summarizing the rVaR and rES at each significant levels with their respective quantiles. Of the code chunks (i), (ii), and (iii), run the appropriate code chunk to get the correct risk information.\n",
    "<ul>\n",
    "  <li type = \"i\">Run if Normal Distribution is selected in part c)</li>\n",
    "  <li type = \"i\">Run if Double Exponential Distribution is selected in part c)</li>\n",
    "  <li type = \"i\">Run if Student-t Distribution is selected in part c)</li>\n",
    "</ul>"
   ]
  },
  {
   "cell_type": "markdown",
   "metadata": {},
   "source": [
    "<b style=\"color:blue;\"> Solution: </b>"
   ]
  },
  {
   "cell_type": "markdown",
   "metadata": {},
   "source": [
    "(i) <p style=\"color:blue;\">IF YOU SELECTED THE NORMAL DISTRIBUTION IN PART c), THEN RUN THIS CHUNK.</p>\n",
    "<p style=\"color:red;\">PLEASE DO NOT CHANGE THIS CODE CHUNK!!!</p>"
   ]
  },
  {
   "cell_type": "code",
   "execution_count": 84,
   "metadata": {},
   "outputs": [],
   "source": [
    "quantile_10 = norm.ppf(0.1, mu, sigma)\n",
    "quantile_5 = norm.ppf(0.05, mu, sigma)\n",
    "quantile_1 = norm.ppf(0.01, mu, sigma)\n",
    "quantile = [quantile_10, quantile_5, quantile_1] \n",
    "random.seed(10) # set a random seed so that anyone who re-runs this will get the same generated outcome\n",
    "simLoss = -(np.exp(norm.rvs(loc = mu, scale = sigma, size = 10000000))-1)      # enter code before this comment"
   ]
  },
  {
   "cell_type": "markdown",
   "metadata": {},
   "source": [
    "(ii) <p style=\"color:blue;\">IF YOU SELECTED THE DOUBLE EXPONENTIAL DISTRIBUTION IN PART c), THEN RUN THIS CHUNK.</p>\n",
    "<p style=\"color:red;\">PLEASE DO NOT CHANGE THIS CODE CHUNK!!!</p>"
   ]
  },
  {
   "cell_type": "code",
   "execution_count": 41,
   "metadata": {},
   "outputs": [],
   "source": [
    "quantile_10 = laplace.ppf(0.1, loc_dexp, scale_dexp)\n",
    "quantile_5 = laplace.ppf(0.05, loc_dexp, scale_dexp)\n",
    "quantile_1 = laplace.ppf(0.01, loc_dexp, scale_dexp)\n",
    "quantile = [quantile_10, quantile_5, quantile_1] \n",
    "random.seed(10) # set a random seed so that anyone who re-runs this will get the same generated outcome\n",
    "simLoss = -(np.exp(laplace.rvs(loc = loc_dexp, scale = scale_dexp, size = 10000000))-1)      # enter code before this comment"
   ]
  },
  {
   "cell_type": "markdown",
   "metadata": {},
   "source": [
    "(iii) <p style=\"color:blue;\">IF YOU SELECTED THE STUDENT-T DISTRIBUTION IN PART c), THEN RUN THIS CHUNK.</p>\n",
    "<p style=\"color:red;\">PLEASE DO NOT CHANGE THIS CODE CHUNK!!!</p>"
   ]
  },
  {
   "cell_type": "code",
   "execution_count": 86,
   "metadata": {},
   "outputs": [],
   "source": [
    "quantile_10 = t.ppf(0.1, df_t, loc_t, scale_t)\n",
    "quantile_5 = t.ppf(0.05, df_t, loc_t, scale_t)\n",
    "quantile_1 = t.ppf(0.01, df_t, loc_t, scale_t)\n",
    "quantile = [quantile_10, quantile_5, quantile_1] \n",
    "random.seed(10) # set a random seed so that anyone who re-runs this will get the same generated outcome\n",
    "simLoss = -(np.exp(t.rvs(df = df_t, loc = loc_t, scale = scale_t, size = 10000000))-1)      "
   ]
  },
  {
   "cell_type": "markdown",
   "metadata": {},
   "source": [
    "Run the following code chunk to get the relative Value-at-Risk (rVaR) at each significance level.\n",
    "<br>\n",
    "<p style=\"color:red;\">PLEASE DO NOT CHANGE THIS CODE CHUNK!!!</p>"
   ]
  },
  {
   "cell_type": "code",
   "execution_count": 43,
   "metadata": {},
   "outputs": [],
   "source": [
    "rVaR_10 = -(np.exp(quantile_10)-1)     \n",
    "rVaR_5 = -(np.exp(quantile_5)-1)     \n",
    "rVaR_1 = -(np.exp(quantile_1)-1)    \n",
    "rVaR = [rVaR_10, rVaR_5, rVaR_1] "
   ]
  },
  {
   "cell_type": "markdown",
   "metadata": {},
   "source": [
    "Run the following code chunk to get the relative Expected Shortfall (ES) at each significance level.\n",
    "<br>\n",
    "<p style=\"color:red;\">PLEASE DO NOT CHANGE THIS CODE CHUNK!!!</p>"
   ]
  },
  {
   "cell_type": "code",
   "execution_count": 44,
   "metadata": {},
   "outputs": [],
   "source": [
    "rES_10 = np.mean(simLoss[simLoss>rVaR_10])   \n",
    "rES_5 = np.mean(simLoss[simLoss>rVaR_5])      \n",
    "rES_1 = np.mean(simLoss[simLoss>rVaR_1])      \n",
    "rES = [rES_10, rES_5, rES_1] "
   ]
  },
  {
   "cell_type": "markdown",
   "metadata": {},
   "source": [
    "Run the following code chunk to output the risk summary table."
   ]
  },
  {
   "cell_type": "code",
   "execution_count": 45,
   "metadata": {},
   "outputs": [
    {
     "data": {
      "text/html": [
       "<div>\n",
       "<style scoped>\n",
       "    .dataframe tbody tr th:only-of-type {\n",
       "        vertical-align: middle;\n",
       "    }\n",
       "\n",
       "    .dataframe tbody tr th {\n",
       "        vertical-align: top;\n",
       "    }\n",
       "\n",
       "    .dataframe thead th {\n",
       "        text-align: right;\n",
       "    }\n",
       "</style>\n",
       "<table border=\"1\" class=\"dataframe\">\n",
       "  <thead>\n",
       "    <tr style=\"text-align: right;\">\n",
       "      <th></th>\n",
       "      <th>Significance Level</th>\n",
       "      <th>Quantile</th>\n",
       "      <th>rVaR</th>\n",
       "      <th>rES</th>\n",
       "    </tr>\n",
       "  </thead>\n",
       "  <tbody>\n",
       "    <tr>\n",
       "      <th>0</th>\n",
       "      <td>10%</td>\n",
       "      <td>-0.043807</td>\n",
       "      <td>0.042861</td>\n",
       "      <td>0.069275</td>\n",
       "    </tr>\n",
       "    <tr>\n",
       "      <th>1</th>\n",
       "      <td>5%</td>\n",
       "      <td>-0.063451</td>\n",
       "      <td>0.061480</td>\n",
       "      <td>0.087386</td>\n",
       "    </tr>\n",
       "    <tr>\n",
       "      <th>2</th>\n",
       "      <td>1%</td>\n",
       "      <td>-0.109064</td>\n",
       "      <td>0.103327</td>\n",
       "      <td>0.128093</td>\n",
       "    </tr>\n",
       "  </tbody>\n",
       "</table>\n",
       "</div>"
      ],
      "text/plain": [
       "  Significance Level  Quantile      rVaR       rES\n",
       "0                10% -0.043807  0.042861  0.069275\n",
       "1                 5% -0.063451  0.061480  0.087386\n",
       "2                 1% -0.109064  0.103327  0.128093"
      ]
     },
     "execution_count": 45,
     "metadata": {},
     "output_type": "execute_result"
    }
   ],
   "source": [
    "pd.DataFrame({'Significance Level': ['10%', '5%', '1%'], 'Quantile': [quantile_10, quantile_5, quantile_1], 'rVaR': [rVaR_10, rVaR_5, rVaR_1], 'rES':[rES_10, rES_5, rES_1]})"
   ]
  },
  {
   "cell_type": "markdown",
   "metadata": {},
   "source": [
    "f) The portfolio manager tells you that she is planning to invest $95000 into the stock that you recommended in this problem, and wants to know at least how much (in dollar amount) she has to set aside to sustain the loss that occurrs at a 10% significance level. What would you tell her?"
   ]
  },
  {
   "cell_type": "markdown",
   "metadata": {},
   "source": [
    "<b style=\"color:blue;\"> Solution: </b>"
   ]
  },
  {
   "cell_type": "markdown",
   "metadata": {},
   "source": [
    "<p style=\"color:blue;\"> From the rVaR calculation above, there is a 10% probability that at least 4.2861% * $95000 = $4071.8 has to be set aside to prepare for the drawdown in the next trading day.</p>"
   ]
  },
  {
   "cell_type": "markdown",
   "metadata": {},
   "source": [
    "g) She also wants to know on average, how much (in percentage) of her portfolio should she size in to sustain the loss that occurrs at a 5% significance level. What would you tell her?"
   ]
  },
  {
   "cell_type": "markdown",
   "metadata": {},
   "source": [
    "<b style=\"color:blue;\"> Solution: </b>"
   ]
  },
  {
   "cell_type": "markdown",
   "metadata": {},
   "source": [
    "<p style=\"color:blue;\"> From the rER calculation above, given that there is a 5% probability that you will lose at least 6.15% of your portfolio, an average of 8.74% of your portfolio has to be set aside to sustain the drawdown in the next trading day.</p>"
   ]
  }
 ],
 "metadata": {
  "kernelspec": {
   "display_name": "Python 3",
   "language": "python",
   "name": "python3"
  },
  "language_info": {
   "codemirror_mode": {
    "name": "ipython",
    "version": 3
   },
   "file_extension": ".py",
   "mimetype": "text/x-python",
   "name": "python",
   "nbconvert_exporter": "python",
   "pygments_lexer": "ipython3",
   "version": "3.7.6"
  },
  "toc": {
   "base_numbering": 1,
   "nav_menu": {},
   "number_sections": true,
   "sideBar": true,
   "skip_h1_title": true,
   "title_cell": "Table of Contents",
   "title_sidebar": "Contents",
   "toc_cell": false,
   "toc_position": {},
   "toc_section_display": true,
   "toc_window_display": true
  }
 },
 "nbformat": 4,
 "nbformat_minor": 2
}
